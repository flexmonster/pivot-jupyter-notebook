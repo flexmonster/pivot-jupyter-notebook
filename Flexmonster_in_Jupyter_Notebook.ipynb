{
  "metadata": {
    "kernelspec": {
      "name": "python",
      "display_name": "Python (Pyodide)",
      "language": "python"
    },
    "language_info": {
      "codemirror_mode": {
        "name": "python",
        "version": 3
      },
      "file_extension": ".py",
      "mimetype": "text/x-python",
      "name": "python",
      "nbconvert_exporter": "python",
      "pygments_lexer": "ipython3",
      "version": "3.8"
    }
  },
  "nbformat_minor": 4,
  "nbformat": 4,
  "cells": [
    {
      "cell_type": "markdown",
      "source": "# Exploratory data analysis with Flexmonster Pivot Table & Charts",
      "metadata": {}
    },
    {
      "cell_type": "code",
      "source": "# Imports:\n\nfrom IPython.display import HTML\nimport json\nimport pandas as pd",
      "metadata": {
        "trusted": true
      },
      "outputs": [],
      "execution_count": 1
    },
    {
      "cell_type": "markdown",
      "source": "##### Load Flexmonster package:",
      "metadata": {}
    },
    {
      "cell_type": "code",
      "source": "HTML('<script src=\"https://cdn.flexmonster.com/flexmonster.js\"></script>')",
      "metadata": {
        "trusted": true
      },
      "outputs": [
        {
          "execution_count": 2,
          "output_type": "execute_result",
          "data": {
            "text/plain": "<IPython.core.display.HTML object>",
            "text/html": "<script src=\"https://cdn.flexmonster.com/flexmonster.js\"></script>"
          },
          "metadata": {}
        }
      ],
      "execution_count": 2
    },
    {
      "cell_type": "markdown",
      "source": "## 1) Flexmonster example:",
      "metadata": {}
    },
    {
      "cell_type": "code",
      "source": "# Display Flexmonster in HTML:\n\ndef pivot(flexmonster_json_object):\n    \n    code = '''\n      <h1>Flexmonster Integration with Jupyter Notebook</h1>\n      <div id=\"pivot-container1\"></div>\n      <script>\n      new Flexmonster({0});\n      </script>\n      '''.format(flexmonster_json_object)\n    return HTML(code)",
      "metadata": {
        "trusted": true
      },
      "outputs": [],
      "execution_count": 3
    },
    {
      "cell_type": "code",
      "source": "# Define data with pandas:\n\ndf = pd.DataFrame([['Apple pie', '20'], ['Lemon cake', '30']], index=['row 1', 'row 2'], columns=['Product', 'Quantity'])\njson_data = df.to_json(orient='records')\n\n\n\n# Define Flexmonster. More about Flexmonster's properties can be found here: https://www.flexmonster.com/api/new-flexmonster/\n\nflexmonster = {\n    \"container\": \"#pivot-container1\",\n    \"componentFolder\": \"https://cdn.flexmonster.com/\",\n    \"width\": \"100%\",\n    \"height\": 430,\n    \"toolbar\": True,\n    \"report\": {\n        \"dataSource\": {\n            \"type\": \"json\",\n            \"data\": json.loads(json_data)\n        },\n        \"slice\": {\n            \"rows\": [\n                {\n                    \"uniqueName\": \"Product\"\n                }\n            ],\n            \"columns\": [\n                {\n                    \"uniqueName\": \"[Measures]\"\n                }\n            ],\n            \"measures\": [\n                {\n                    \"uniqueName\": \"Quantity\",\n                    \"aggregation\": \"sum\"\n                }\n            ]\n        }\n    }\n}\n\n\n# convert into JSON:\nflexmonster_json_object = json.dumps(flexmonster)\n\n# display:\npivot(flexmonster_json_object)",
      "metadata": {
        "trusted": true
      },
      "outputs": [
        {
          "execution_count": 4,
          "output_type": "execute_result",
          "data": {
            "text/plain": "<IPython.core.display.HTML object>",
            "text/html": "\n      <h1>Flexmonster Integration with Jupyter Notebook</h1>\n      <div id=\"pivot-container1\"></div>\n      <script>\n      new Flexmonster({\"container\": \"#pivot-container1\", \"componentFolder\": \"https://cdn.flexmonster.com/\", \"width\": \"100%\", \"height\": 430, \"toolbar\": true, \"report\": {\"dataSource\": {\"type\": \"json\", \"data\": [{\"Product\": \"Apple pie\", \"Quantity\": \"20\"}, {\"Product\": \"Lemon cake\", \"Quantity\": \"30\"}]}, \"slice\": {\"rows\": [{\"uniqueName\": \"Product\"}], \"columns\": [{\"uniqueName\": \"[Measures]\"}], \"measures\": [{\"uniqueName\": \"Quantity\", \"aggregation\": \"sum\"}]}}});\n      </script>\n      "
          },
          "metadata": {}
        }
      ],
      "execution_count": 4
    },
    {
      "cell_type": "markdown",
      "source": "## 2) Flexmonster with events example:",
      "metadata": {}
    },
    {
      "cell_type": "code",
      "source": "# Displaying Flexmonster with events in HTML example:\n\ndef pivot_with_events(flexmonster_json_object, reportchange_handler='''''', toolbar_handler=''''''):\n    \n    code = '''\n      <h1>Flexmonster Integration with Jupyter Notebook</h1>\n      <div id=\"pivot-container2\"></div>\n      <script>\n      new Flexmonster({0});\n      {1}\n      {2}\n      </script>\n      '''.format(flexmonster_json_object, reportchange_handler, toolbar_handler)\n    return HTML(code)",
      "metadata": {
        "trusted": true
      },
      "outputs": [],
      "execution_count": 5
    },
    {
      "cell_type": "code",
      "source": "# Define data with pandas:\n\ndf = pd.DataFrame([['Apple pie', '20'], ['Lemon cake', '30']], index=['row 1', 'row 2'], columns=['Product', 'Quantity'])\njson_data = df.to_json(orient='records')\n\n# Define Flexmonster. More about Flexmonster's properties can be found here: https://www.flexmonster.com/api/new-flexmonster/\n\nflexmonster = {\n    \"container\": \"#pivot-container2\",\n    \"componentFolder\": \"https://cdn.flexmonster.com/\",\n    \"width\": \"100%\",\n    \"height\": 430,\n    \"toolbar\": True,\n    \"report\": {\n        \"dataSource\": {\n            \"type\": \"json\",\n            \"data\": json.loads(json_data)\n        },\n        \"slice\": {\n            \"rows\": [\n                {\n                    \"uniqueName\": \"Product\"\n                }\n            ],\n            \"columns\": [\n                {\n                    \"uniqueName\": \"[Measures]\"\n                }\n            ],\n            \"measures\": [\n                {\n                    \"uniqueName\": \"Quantity\",\n                    \"aggregation\": \"sum\"\n                }\n            ]\n        }\n    }\n}\n\n# Define event handlers. More about Flexmonster events can be found here: https://www.flexmonster.com/api/events/\n\nreportchange_handler = ''' flexmonster.on(\"reportchange\", ()=>{alert(\"Changed!\")}); '''\n    \ncustomize_toolbar = ''' (toolbar) => {\n    // get all tabs\n    var tabs = toolbar.getTabs(); \n    toolbar.getTabs = function () {\n        // add new tab\n        tabs.unshift({\n            id: \"fm-tab-newtab\",\n            title: \"New Tab\",\n            handler: newtabHandler,\n            icon: this.icons.open\n        });\n        return tabs;\n    }\n\n    var newtabHandler = function() {\n       alert(\"New Tab Handler!\")\n    }  \n}'''\n\ntoolbar_handler =  ''' flexmonster.on(\"beforetoolbarcreated\", {0}); '''.format(customize_toolbar)\n\n# convert into JSON:\nflexmonster_json_object = json.dumps(flexmonster)\n\n# display:\npivot_with_events(flexmonster_json_object, reportchange_handler, toolbar_handler)",
      "metadata": {
        "trusted": true
      },
      "outputs": [
        {
          "execution_count": 6,
          "output_type": "execute_result",
          "data": {
            "text/plain": "<IPython.core.display.HTML object>",
            "text/html": "\n      <h1>Flexmonster Integration with Jupyter Notebook</h1>\n      <div id=\"pivot-container2\"></div>\n      <script>\n      new Flexmonster({\"container\": \"#pivot-container2\", \"componentFolder\": \"https://cdn.flexmonster.com/\", \"width\": \"100%\", \"height\": 430, \"toolbar\": true, \"report\": {\"dataSource\": {\"type\": \"json\", \"data\": [{\"Product\": \"Apple pie\", \"Quantity\": \"20\"}, {\"Product\": \"Lemon cake\", \"Quantity\": \"30\"}]}, \"slice\": {\"rows\": [{\"uniqueName\": \"Product\"}], \"columns\": [{\"uniqueName\": \"[Measures]\"}], \"measures\": [{\"uniqueName\": \"Quantity\", \"aggregation\": \"sum\"}]}}});\n       flexmonster.on(\"reportchange\", ()=>{alert(\"Changed!\")}); \n       flexmonster.on(\"beforetoolbarcreated\",  (toolbar) => {\n    // get all tabs\n    var tabs = toolbar.getTabs(); \n    toolbar.getTabs = function () {\n        // add new tab\n        tabs.unshift({\n            id: \"fm-tab-newtab\",\n            title: \"New Tab\",\n            handler: newtabHandler,\n            icon: this.icons.open\n        });\n        return tabs;\n    }\n\n    var newtabHandler = function() {\n       alert(\"New Tab Handler!\")\n    }  \n}); \n      </script>\n      "
          },
          "metadata": {}
        }
      ],
      "execution_count": 6
    }
  ]
}